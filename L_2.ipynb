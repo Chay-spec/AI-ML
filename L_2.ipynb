{
  "nbformat": 4,
  "nbformat_minor": 0,
  "metadata": {
    "colab": {
      "provenance": [],
      "authorship_tag": "ABX9TyOJ6yzO0Ihx+XskRod3qNq5",
      "include_colab_link": true
    },
    "kernelspec": {
      "name": "python3",
      "display_name": "Python 3"
    },
    "language_info": {
      "name": "python"
    }
  },
  "cells": [
    {
      "cell_type": "markdown",
      "metadata": {
        "id": "view-in-github",
        "colab_type": "text"
      },
      "source": [
        "<a href=\"https://colab.research.google.com/github/Chay-spec/tres-bien/blob/main/L_2.ipynb\" target=\"_parent\"><img src=\"https://colab.research.google.com/assets/colab-badge.svg\" alt=\"Open In Colab\"/></a>"
      ]
    },
    {
      "cell_type": "markdown",
      "source": [
        "Python brush up"
      ],
      "metadata": {
        "id": "OFJ1P4LUgJFu"
      }
    },
    {
      "cell_type": "code",
      "source": [
        "var1=\"Hello world\"\n",
        "var2=\" new to python\""
      ],
      "metadata": {
        "id": "iVZffvtdgR5a"
      },
      "execution_count": null,
      "outputs": []
    },
    {
      "cell_type": "code",
      "source": [
        "var=var1 + var2\n",
        "print(var)\n",
        "print(var1,var2)"
      ],
      "metadata": {
        "colab": {
          "base_uri": "https://localhost:8080/"
        },
        "id": "Df6Tz72sgbYp",
        "outputId": "d3af681b-f645-45c3-8cbf-e9eb422e65e5"
      },
      "execution_count": null,
      "outputs": [
        {
          "output_type": "stream",
          "name": "stdout",
          "text": [
            "Hel'lo world new to python\n",
            "Hel'lo world  new to python\n"
          ]
        }
      ]
    },
    {
      "cell_type": "code",
      "source": [
        "friends=['abc','bcd','efg','hij']\n",
        "for i in friends:\n",
        "  print(\"Happy new year:\",i)\n",
        "for i in range(len(friends)): #both code does the same job\n",
        "  print(\"Happy new year:\",friends[i])"
      ],
      "metadata": {
        "colab": {
          "base_uri": "https://localhost:8080/"
        },
        "id": "iKSqbeDdguPG",
        "outputId": "b47ead4d-f0c3-4887-a040-f762de8e5049"
      },
      "execution_count": null,
      "outputs": [
        {
          "output_type": "stream",
          "name": "stdout",
          "text": [
            "Happy new year: abc\n",
            "Happy new year: bcd\n",
            "Happy new year: efg\n",
            "Happy new year: hij\n",
            "Happy new year: abc\n",
            "Happy new year: bcd\n",
            "Happy new year: efg\n",
            "Happy new year: hij\n"
          ]
        }
      ]
    },
    {
      "cell_type": "code",
      "source": [
        "h=[1,2,3,4]\n",
        "i=[5,6,7,8,9]\n",
        "what=h+i\n",
        "print(what)\n"
      ],
      "metadata": {
        "colab": {
          "base_uri": "https://localhost:8080/"
        },
        "id": "nsxk-Oswnmfm",
        "outputId": "60bab1cc-c93a-4125-cddd-8f2019c1ccd3"
      },
      "execution_count": null,
      "outputs": [
        {
          "output_type": "stream",
          "name": "stdout",
          "text": [
            "[1, 2, 3, 4, 5, 6, 7, 8, 9]\n"
          ]
        }
      ]
    },
    {
      "cell_type": "code",
      "source": [
        "#building list from a scartch\n",
        "fruits=list()\n",
        "fruits.append('apple')\n",
        "fruits.append('mango')\n",
        "fruits.append('pears')\n",
        "print(fruits)"
      ],
      "metadata": {
        "colab": {
          "base_uri": "https://localhost:8080/"
        },
        "id": "4qR2vqUnoXR9",
        "outputId": "47afe4d9-285b-4af9-9101-8c6abb6ae2f1"
      },
      "execution_count": null,
      "outputs": [
        {
          "output_type": "stream",
          "name": "stdout",
          "text": [
            "['apple', 'mango', 'pears']\n"
          ]
        }
      ]
    },
    {
      "cell_type": "code",
      "source": [
        "#built-in-functions\n",
        "num=[1,2,3,4,5,6]\n",
        "print(max(num))\n",
        "print(min(num))\n",
        "print(sum(num))\n"
      ],
      "metadata": {
        "colab": {
          "base_uri": "https://localhost:8080/"
        },
        "id": "fh1zztslq6JR",
        "outputId": "20f29b97-d4f3-4d67-ad86-9d9af5047315"
      },
      "execution_count": null,
      "outputs": [
        {
          "output_type": "stream",
          "name": "stdout",
          "text": [
            "6\n",
            "1\n",
            "21\n"
          ]
        }
      ]
    },
    {
      "cell_type": "code",
      "source": [
        "def greeting():\n",
        "  print('Hi welcome to python')\n",
        "greeting()\n",
        "print('we are doing function and def is the keyword use in python')\n",
        "greeting()\n",
        "print('to greet once more just call function')\n",
        "greeting()\n",
        "\n"
      ],
      "metadata": {
        "colab": {
          "base_uri": "https://localhost:8080/"
        },
        "id": "DcB_pD4MsqD8",
        "outputId": "4b0e3a3e-b99b-472a-cac8-8e6ed3f32029"
      },
      "execution_count": null,
      "outputs": [
        {
          "output_type": "stream",
          "name": "stdout",
          "text": [
            "Hi welcome to python\n",
            "we are doing function and def is the keyword use in python\n",
            "Hi welcome to python\n",
            "to greet once more just call function\n",
            "Hi welcome to python\n"
          ]
        }
      ]
    },
    {
      "cell_type": "code",
      "source": [
        "def add(a,b):\n",
        "  sum=a+b\n",
        "  return sum"
      ],
      "metadata": {
        "id": "peV-RTtyxpVI"
      },
      "execution_count": null,
      "outputs": []
    },
    {
      "cell_type": "code",
      "source": [
        "print(\"This is a function program\")\n",
        "var=add(6,8)\n",
        "print(var)\n",
        "#or\n",
        "print(add(9,1))"
      ],
      "metadata": {
        "colab": {
          "base_uri": "https://localhost:8080/"
        },
        "id": "qaoLadeMHTSv",
        "outputId": "235f6aec-2f8c-44e9-ffbd-e6ae6fdd45e0"
      },
      "execution_count": null,
      "outputs": [
        {
          "output_type": "stream",
          "name": "stdout",
          "text": [
            "This is a function program\n",
            "14\n",
            "10\n"
          ]
        }
      ]
    },
    {
      "cell_type": "code",
      "source": [],
      "metadata": {
        "id": "t7bKFacKKxKW"
      },
      "execution_count": null,
      "outputs": []
    }
  ]
}