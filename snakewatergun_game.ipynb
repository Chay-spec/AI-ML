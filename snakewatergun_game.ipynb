{
  "nbformat": 4,
  "nbformat_minor": 0,
  "metadata": {
    "colab": {
      "provenance": [],
      "authorship_tag": "ABX9TyON00p5XLRRbD20xQBxgdhi",
      "include_colab_link": true
    },
    "kernelspec": {
      "name": "python3",
      "display_name": "Python 3"
    },
    "language_info": {
      "name": "python"
    }
  },
  "cells": [
    {
      "cell_type": "markdown",
      "metadata": {
        "id": "view-in-github",
        "colab_type": "text"
      },
      "source": [
        "<a href=\"https://colab.research.google.com/github/Chay-spec/tres-bien/blob/main/snakewatergun_game.ipynb\" target=\"_parent\"><img src=\"https://colab.research.google.com/assets/colab-badge.svg\" alt=\"Open In Colab\"/></a>"
      ]
    },
    {
      "cell_type": "code",
      "execution_count": 1,
      "metadata": {
        "colab": {
          "base_uri": "https://localhost:8080/"
        },
        "id": "kc74i2sxqrdg",
        "outputId": "0a01ea5f-3450-4bdd-cf2a-bce1ef417629"
      },
      "outputs": [
        {
          "output_type": "stream",
          "name": "stdout",
          "text": [
            "Welcome to the snake gun water game!!\n",
            "Computer turn: \n",
            " 1.Snake  \n",
            " 2.Water \n",
            " 3.Gun\n",
            "Choose your weapon: \n",
            " 1.Snake \n",
            " 2.Water \n",
            " 3.Gun \n",
            "1\n",
            "AI won\n"
          ]
        }
      ],
      "source": [
        "import random\n",
        "print(\"Welcome to the snake gun water game!!\")\n",
        "print(\"Computer turn: \\n 1.Snake  \\n 2.Water \\n 3.Gun\")\n",
        "rand_no=random.randint(1,3)\n",
        "if rand_no==1:\n",
        "    comp=\"Snake\"\n",
        "elif rand_no==2:\n",
        "    comp=\"Water\"\n",
        "elif rand_no==3:\n",
        "    comp=\"Gun\"\n",
        "weapon=int(input(\"Choose your weapon: \\n 1.Snake \\n 2.Water \\n 3.Gun \\n\"))\n",
        "if (rand_no==weapon):\n",
        "    print(\"Draw game\")\n",
        "elif rand_no==1 and weapon==3:\n",
        "    print(\"You won\")\n",
        "elif rand_no==2 and weapon==1:\n",
        "    print(\"AI won\")\n",
        "elif rand_no==3 and weapon==2:\n",
        "    print(\"You won\")\n",
        "else:\n",
        "    print(\"You lost the game\")"
      ]
    }
  ]
}