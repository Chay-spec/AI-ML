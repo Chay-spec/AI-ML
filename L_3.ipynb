{
  "nbformat": 4,
  "nbformat_minor": 0,
  "metadata": {
    "colab": {
      "provenance": [],
      "authorship_tag": "ABX9TyNKeTB5WI3xFlxbSlkW7Xvr",
      "include_colab_link": true
    },
    "kernelspec": {
      "name": "python3",
      "display_name": "Python 3"
    },
    "language_info": {
      "name": "python"
    }
  },
  "cells": [
    {
      "cell_type": "markdown",
      "metadata": {
        "id": "view-in-github",
        "colab_type": "text"
      },
      "source": [
        "<a href=\"https://colab.research.google.com/github/Chay-spec/tres-bien/blob/main/L_3.ipynb\" target=\"_parent\"><img src=\"https://colab.research.google.com/assets/colab-badge.svg\" alt=\"Open In Colab\"/></a>"
      ]
    },
    {
      "cell_type": "code",
      "execution_count": null,
      "metadata": {
        "id": "-99wxqISVVqO"
      },
      "outputs": [],
      "source": [
        "import numpy as np"
      ]
    },
    {
      "cell_type": "code",
      "source": [
        "a=np.array([[1,2],[3,4]])\n",
        "a"
      ],
      "metadata": {
        "colab": {
          "base_uri": "https://localhost:8080/"
        },
        "id": "QioQ--9EoqRn",
        "outputId": "d2eb1cd4-c1ba-44c8-875d-784f6c08b95f"
      },
      "execution_count": null,
      "outputs": [
        {
          "output_type": "execute_result",
          "data": {
            "text/plain": [
              "array([[1, 2],\n",
              "       [3, 4]])"
            ]
          },
          "metadata": {},
          "execution_count": 5
        }
      ]
    },
    {
      "cell_type": "code",
      "source": [
        "a.shape #is use to check the shape of the array"
      ],
      "metadata": {
        "colab": {
          "base_uri": "https://localhost:8080/"
        },
        "id": "kTFQgKrc9CAI",
        "outputId": "0db109e9-c7e0-4832-ff93-3fbc52d88433"
      },
      "execution_count": null,
      "outputs": [
        {
          "output_type": "execute_result",
          "data": {
            "text/plain": [
              "(4, 1)"
            ]
          },
          "metadata": {},
          "execution_count": 32
        }
      ]
    },
    {
      "cell_type": "code",
      "source": [
        "a=a.reshape(4,1) #reshaping in matrix form.\n",
        "#or\n",
        "a=a.reshape(1,4)\n",
        "#or\n",
        "a=a.reshape(2,2)\n",
        "a"
      ],
      "metadata": {
        "colab": {
          "base_uri": "https://localhost:8080/"
        },
        "id": "NjqTEApw9OFq",
        "outputId": "51904f26-fde2-4c0c-e8ec-6a43e2459ca6"
      },
      "execution_count": null,
      "outputs": [
        {
          "output_type": "execute_result",
          "data": {
            "text/plain": [
              "array([[1, 2],\n",
              "       [3, 4]])"
            ]
          },
          "metadata": {},
          "execution_count": 33
        }
      ]
    },
    {
      "cell_type": "code",
      "source": [
        "b=np.array([1,43,5])\n",
        "b.shape"
      ],
      "metadata": {
        "colab": {
          "base_uri": "https://localhost:8080/"
        },
        "id": "qWwT3iN7Bveb",
        "outputId": "c372f601-e035-4a63-e21d-22dd0f966d5a"
      },
      "execution_count": null,
      "outputs": [
        {
          "output_type": "execute_result",
          "data": {
            "text/plain": [
              "(3,)"
            ]
          },
          "metadata": {},
          "execution_count": 6
        }
      ]
    },
    {
      "cell_type": "code",
      "source": [
        "b=b.reshape(1,3) #2d array\n",
        "#or\n",
        "b=b.reshape(3,1,1)#3d array\n",
        "b.shape"
      ],
      "metadata": {
        "colab": {
          "base_uri": "https://localhost:8080/"
        },
        "id": "7lsOcs1VDh4k",
        "outputId": "0e928394-eb60-4331-e9ff-836fc1821b0f"
      },
      "execution_count": null,
      "outputs": [
        {
          "output_type": "execute_result",
          "data": {
            "text/plain": [
              "(3, 1, 1)"
            ]
          },
          "metadata": {},
          "execution_count": 7
        }
      ]
    },
    {
      "cell_type": "markdown",
      "source": [
        "# DOT\n",
        "\n",
        "\n",
        "This function returns the dot product of two arrays.For 2-D vactors,it is the equivalenet of the matrixmultiplication . For 1-D arrays,it is the inner product of the vectors. For N-dimensional, it is the sum product over the last axis of a and the second axis of b"
      ],
      "metadata": {
        "id": "3sHdsohkUUb-"
      }
    },
    {
      "cell_type": "markdown",
      "source": [],
      "metadata": {
        "id": "BtLEDBn8VNZy"
      }
    },
    {
      "cell_type": "code",
      "source": [
        "import numpy as np\n",
        "\n",
        "a=np.array([[1,2],[3,4]])\n",
        "b=np.array([[5,6],[7,8]])\n",
        "\n",
        "print(\"a:\", a)\n",
        "print()\n",
        "print(\"b:\", b)\n",
        "np.dot(a,b)\n",
        "#[1*5+2*7 1*6+2*8] [3*5+4*7 3*6+4*8]"
      ],
      "metadata": {
        "id": "h7Eag9cmVFXo",
        "colab": {
          "base_uri": "https://localhost:8080/"
        },
        "outputId": "201e0109-f19f-414e-f0f6-bd0b7a0a46ff"
      },
      "execution_count": 11,
      "outputs": [
        {
          "output_type": "stream",
          "name": "stdout",
          "text": [
            "a: [[1 2]\n",
            " [3 4]]\n",
            "\n",
            "b: [[5 6]\n",
            " [7 8]]\n"
          ]
        },
        {
          "output_type": "execute_result",
          "data": {
            "text/plain": [
              "array([[19, 22],\n",
              "       [43, 50]])"
            ]
          },
          "metadata": {},
          "execution_count": 11
        }
      ]
    },
    {
      "cell_type": "markdown",
      "source": [
        "# Random Function\n",
        "\n",
        "syntax: numpy.random.random(size=None)\n",
        "\n",
        "---\n",
        "\n",
        "\n",
        "Parameters:\n",
        "\n",
        "---\n",
        "size:[int or tuple of ints,optional]\n",
        "\n",
        "\n",
        "---\n",
        "\n",
        "\n",
        "output shape: if the given shape is e.g.,(m,n,k),then m,n,k samples are drawn"
      ],
      "metadata": {
        "id": "4xnJxjaTNvfq"
      }
    },
    {
      "cell_type": "code",
      "source": [
        "#out_arr\n",
        "out_arr=np.random.random(size=2)\n",
        "print(\"Output of 1-d array filled with random floats: \", out_arr)\n",
        "\n",
        "\n",
        "\n",
        "\n"
      ],
      "metadata": {
        "colab": {
          "base_uri": "https://localhost:8080/"
        },
        "id": "Euup_uqdOykQ",
        "outputId": "1e1e6238-9224-4306-f53c-873da3580715"
      },
      "execution_count": 14,
      "outputs": [
        {
          "output_type": "stream",
          "name": "stdout",
          "text": [
            "Output of 1-d array filled with random floats:  [0.73427138 0.86338875]\n"
          ]
        }
      ]
    },
    {
      "cell_type": "code",
      "source": [
        "np.random.random((2,3))"
      ],
      "metadata": {
        "colab": {
          "base_uri": "https://localhost:8080/"
        },
        "id": "fAXxoNWCQwXh",
        "outputId": "e25afc2e-170c-4109-9d6b-3b2fa5a3daf8"
      },
      "execution_count": 15,
      "outputs": [
        {
          "output_type": "execute_result",
          "data": {
            "text/plain": [
              "array([[0.62614949, 0.97121646, 0.88017367],\n",
              "       [0.41515256, 0.18872378, 0.10283774]])"
            ]
          },
          "metadata": {},
          "execution_count": 15
        }
      ]
    },
    {
      "cell_type": "markdown",
      "source": [
        "# Slicing"
      ],
      "metadata": {
        "id": "u5hrdtmHSHwJ"
      }
    },
    {
      "cell_type": "code",
      "source": [
        "a=np.random.random((2,3))\n",
        "a"
      ],
      "metadata": {
        "colab": {
          "base_uri": "https://localhost:8080/"
        },
        "id": "VUdKu5GwSKjV",
        "outputId": "6acd79c2-826d-4dc4-d6d9-0598ca42a7b6"
      },
      "execution_count": 18,
      "outputs": [
        {
          "output_type": "execute_result",
          "data": {
            "text/plain": [
              "array([[0.59376669, 0.72629809, 0.56397311],\n",
              "       [0.09406077, 0.48505758, 0.76214979]])"
            ]
          },
          "metadata": {},
          "execution_count": 18
        }
      ]
    },
    {
      "cell_type": "code",
      "source": [
        "a[:,:-1]"
      ],
      "metadata": {
        "colab": {
          "base_uri": "https://localhost:8080/"
        },
        "id": "aPbF8vUvTTKR",
        "outputId": "19bcc4ad-699e-4e51-8604-905a74057ab4"
      },
      "execution_count": 25,
      "outputs": [
        {
          "output_type": "execute_result",
          "data": {
            "text/plain": [
              "array([[0.59376669, 0.72629809],\n",
              "       [0.09406077, 0.48505758]])"
            ]
          },
          "metadata": {},
          "execution_count": 25
        }
      ]
    },
    {
      "cell_type": "code",
      "source": [
        "a[1:3,1:3]"
      ],
      "metadata": {
        "colab": {
          "base_uri": "https://localhost:8080/"
        },
        "id": "Jh8Cqe6rTYUe",
        "outputId": "c7c652e1-b18c-4e5a-db3d-dd3b889862ea"
      },
      "execution_count": 26,
      "outputs": [
        {
          "output_type": "execute_result",
          "data": {
            "text/plain": [
              "array([[0.48505758, 0.76214979]])"
            ]
          },
          "metadata": {},
          "execution_count": 26
        }
      ]
    },
    {
      "cell_type": "markdown",
      "source": [
        "# Sum function()\n",
        "\n",
        "numpy.sum(arr,axis,dtype,out):\n",
        "\n",
        "---\n",
        "\n",
        "\n",
        "This function returns the sum of array over the specific axiz"
      ],
      "metadata": {
        "id": "nYqFmLCQTjXW"
      }
    },
    {
      "cell_type": "code",
      "source": [
        "#1d array\n",
        "arr=[20,2,.2,10,4]\n",
        "print(\"sum of arr: \", np.sum(arr))"
      ],
      "metadata": {
        "colab": {
          "base_uri": "https://localhost:8080/"
        },
        "id": "E3HG2Uo6UH_o",
        "outputId": "072eb581-ae47-464e-b525-cb64eee0fa8a"
      },
      "execution_count": 27,
      "outputs": [
        {
          "output_type": "stream",
          "name": "stdout",
          "text": [
            "sum of arr:  36.2\n"
          ]
        }
      ]
    },
    {
      "cell_type": "code",
      "source": [
        "arr=np.array([[0,5],[0,3]]) #2d array\n",
        "print(arr)\n",
        "np.sum(arr,axis=0)"
      ],
      "metadata": {
        "colab": {
          "base_uri": "https://localhost:8080/"
        },
        "id": "1R4pX463UuNn",
        "outputId": "b0f16897-8289-4130-a899-e01a3d5c0519"
      },
      "execution_count": 32,
      "outputs": [
        {
          "output_type": "stream",
          "name": "stdout",
          "text": [
            "[[0 5]\n",
            " [0 3]]\n"
          ]
        },
        {
          "output_type": "execute_result",
          "data": {
            "text/plain": [
              "array([0, 8])"
            ]
          },
          "metadata": {},
          "execution_count": 32
        }
      ]
    },
    {
      "cell_type": "markdown",
      "source": [
        "# Square function()\n",
        "Ths element helps user to calculate the square value of each element in the array"
      ],
      "metadata": {
        "id": "hLxkUNnmVpS-"
      }
    },
    {
      "cell_type": "code",
      "source": [
        "arr1=[1,3,-9,-11]\n",
        "print(\"square of the array:\\n\", np.square(arr1))"
      ],
      "metadata": {
        "colab": {
          "base_uri": "https://localhost:8080/"
        },
        "id": "-VuGTKqCWTNA",
        "outputId": "55b13bb9-c4f2-47c8-fc3e-ef07495f26ea"
      },
      "execution_count": 34,
      "outputs": [
        {
          "output_type": "stream",
          "name": "stdout",
          "text": [
            "square of the array:\n",
            " [  1   9  81 121]\n"
          ]
        }
      ]
    }
  ]
}